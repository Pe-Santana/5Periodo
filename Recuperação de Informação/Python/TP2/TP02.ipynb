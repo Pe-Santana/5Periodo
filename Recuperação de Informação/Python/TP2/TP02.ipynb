{
  "nbformat": 4,
  "nbformat_minor": 0,
  "metadata": {
    "colab": {
      "name": "TP02.ipynb",
      "provenance": [],
      "toc_visible": true
    },
    "kernelspec": {
      "name": "python3",
      "display_name": "Python 3"
    },
    "language_info": {
      "name": "python"
    }
  },
  "cells": [
    {
      "cell_type": "code",
      "execution_count": 1,
      "metadata": {
        "colab": {
          "base_uri": "https://localhost:8080/",
          "height": 373
        },
        "id": "2kSpoocV42nn",
        "outputId": "7adaa473-a637-4631-d025-16ca9c5f422c"
      },
      "outputs": [
        {
          "output_type": "error",
          "ename": "ModuleNotFoundError",
          "evalue": "ignored",
          "traceback": [
            "\u001b[0;31m---------------------------------------------------------------------------\u001b[0m",
            "\u001b[0;31mModuleNotFoundError\u001b[0m                       Traceback (most recent call last)",
            "\u001b[0;32m<ipython-input-1-171288eac780>\u001b[0m in \u001b[0;36m<module>\u001b[0;34m()\u001b[0m\n\u001b[1;32m      1\u001b[0m \u001b[0;32mimport\u001b[0m \u001b[0mos\u001b[0m\u001b[0;34m\u001b[0m\u001b[0;34m\u001b[0m\u001b[0m\n\u001b[1;32m      2\u001b[0m \u001b[0;32mimport\u001b[0m \u001b[0mstring\u001b[0m\u001b[0;34m\u001b[0m\u001b[0;34m\u001b[0m\u001b[0m\n\u001b[0;32m----> 3\u001b[0;31m \u001b[0;32mimport\u001b[0m \u001b[0munidecode\u001b[0m\u001b[0;34m\u001b[0m\u001b[0;34m\u001b[0m\u001b[0m\n\u001b[0m\u001b[1;32m      4\u001b[0m \u001b[0;32mimport\u001b[0m \u001b[0mmath\u001b[0m\u001b[0;34m\u001b[0m\u001b[0;34m\u001b[0m\u001b[0m\n\u001b[1;32m      5\u001b[0m \u001b[0;32mfrom\u001b[0m \u001b[0municodedata\u001b[0m \u001b[0;32mimport\u001b[0m \u001b[0mnormalize\u001b[0m\u001b[0;34m\u001b[0m\u001b[0;34m\u001b[0m\u001b[0m\n",
            "\u001b[0;31mModuleNotFoundError\u001b[0m: No module named 'unidecode'",
            "",
            "\u001b[0;31m---------------------------------------------------------------------------\u001b[0;32m\nNOTE: If your import is failing due to a missing package, you can\nmanually install dependencies using either !pip or !apt.\n\nTo view examples of installing some common dependencies, click the\n\"Open Examples\" button below.\n\u001b[0;31m---------------------------------------------------------------------------\u001b[0m\n"
          ],
          "errorDetails": {
            "actions": [
              {
                "action": "open_url",
                "actionText": "Open Examples",
                "url": "/notebooks/snippets/importing_libraries.ipynb"
              }
            ]
          }
        }
      ],
      "source": [
        "import os\n",
        "import string\n",
        "import unidecode\n",
        "import math\n",
        "from unicodedata import normalize\n",
        "\n",
        "#ler um diretorio e criar um vocabulário de todos os arquivos\n",
        "#diretorio = r\"C:\\Users\\Zorak\\OneDrive\\Documentos\\Faculdade\\documentos\"\n",
        "\n",
        "#diretorio = r\"C:\\Users\\Zorak\\OneDrive\\Documentos\\Faculdade\\docsMenor\"\n",
        "\n",
        "diretorio = r\"C:\\Users\\Zorak\\Documents\\docs\"\n",
        "\n",
        "os.chdir(diretorio)\n",
        "\n",
        "\n",
        "def read_text_file(file_name):\n",
        "    with open(file_name, 'r') as f:\n",
        "        return f.read()\n",
        "\n",
        "#pega os arquivos e concatena em uma variavel\n",
        "text = \"\"\n",
        "for file in os.listdir(diretorio):\n",
        "    if file.endswith(\".txt\") and file != \"vocabulario.txt\":\n",
        "        text = text + \"\\n\" + read_text_file(file) \n",
        "    \n",
        "#removendo pontuações e acentos\n",
        "punt = string.punctuation\n",
        "for elements in punt:\n",
        "    text = text.replace(elements, \"\")\n",
        "\n",
        "text = normalize('NFKD', text).encode('ASCII', 'ignore').decode('ASCII')\n",
        "text = text.lower().split()\n",
        "text.sort()\n",
        "\n",
        "#removendo repetiçoes\n",
        "text_resultante = []\n",
        "for element in text:\n",
        "    if element not in text_resultante:\n",
        "        text_resultante.append(element)\n",
        "\n",
        "\n",
        "#criando novo txt com o vocabulario\n",
        "resp = open('vocabulario.txt', 'w')\n",
        "for element in text_resultante:\n",
        "    resp.write(element + \"\\n\")\n",
        "resp.close()\n",
        "print('\\n\\nVocabulario definido.\\n\\n')\n",
        "\n",
        "#le o vocabulario e conta quantas vezes cada elemento aparece em cada arquivo em um array\n",
        "vocabulario = open('vocabulario.txt', 'r')\n",
        "vocabulario = vocabulario.read().splitlines()\n",
        "\n",
        "calcIDF = []\n",
        "i=0\n",
        "for element in vocabulario:\n",
        "    calcIDF.append(0)\n",
        "    for file in os.listdir(diretorio):\n",
        "        if file.endswith(\".txt\") and file != \"vocabulario.txt\":\n",
        "            text = read_text_file(file)\n",
        "            punt = string.punctuation\n",
        "            for elements in punt:\n",
        "                text = text.replace(elements, \"\")\n",
        "\n",
        "            text = normalize('NFKD', text).encode('ASCII', 'ignore').decode('ASCII')\n",
        "            text = text.lower().split()\n",
        "\n",
        "            #print(text)\n",
        "            #print(element)\n",
        "            if element in text:\n",
        "                calcIDF[i] += 1\n",
        "                #print(calcIDF[i])\n",
        "                #print(i)\n",
        "    i+=1\n",
        "         \n",
        "\n",
        "\n",
        "#print(calcIDF)           \n",
        "        \n",
        "for file in os.listdir(diretorio):\n",
        "    contador = []\n",
        "    tfidf = []\n",
        "    for i in range(len(vocabulario)):\n",
        "        contador.append(0)\n",
        "        tfidf.append(0)\n",
        "        if file.endswith(\".txt\") and file != 'vocabulario.txt':\n",
        "            text = read_text_file(file)\n",
        "            text = normalize('NFKD', text).encode('ASCII', 'ignore').decode('ASCII')\n",
        "            text = text.lower().split()\n",
        "            for element in text:\n",
        "                if element == vocabulario[i]:\n",
        "                    contador[i] = contador[i] + 1\n",
        "            #calculando o tfidf\n",
        "            if contador[i] > 0 :\n",
        "                #na segunda função temos : 4 para biblioteca \"to do\" | 5 x-men | 20 hino times\n",
        "                tfidf[i] = (1+math.log(contador[i],2))*math.log((4/calcIDF[i]),2)\n",
        "\n",
        "    if file != 'vocabulario.txt':\n",
        "        print(file)\n",
        "        print(contador)\n",
        "        print('tfidf:')\n",
        "        print(tfidf)\n",
        "        print(\"\\n\\n\")"
      ]
    }
  ]
}